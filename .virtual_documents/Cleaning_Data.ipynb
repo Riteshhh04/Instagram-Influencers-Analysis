# Importing essential libraries
import pandas as pd
import numpy as np


# Load the dataset from CSV file
df = pd.read_csv("top_insta_influencers_data.csv")

# Display the first few rows to understand the structure
df.head()



# Check the structure of the dataset
df.info()

# Optional: Check for summary statistics
df.describe(include='all')



# Function to convert 'k', 'm', 'b' notations into numerical values
def convert_shorthand(val):
    if isinstance(val, str):
        val = val.lower().replace(",", "").strip()  # Remove commas and spaces
        if val.endswith('k'):
            return float(val[:-1]) * 1_000
        elif val.endswith('m'):
            return float(val[:-1]) * 1_000_000
        elif val.endswith('b'):
            return float(val[:-1]) * 1_000_000_000
        else:
            try:
                return float(val)
            except ValueError:
                return np.nan
    return val



df.head()


# List of columns to clean using the conversion function
columns_to_clean = ['posts', 'followers', 'avg_likes', 'new_post_avg_like', 'total_likes']

# Apply the conversion function to each column
for col in columns_to_clean:
    df[col] = df[col].apply(convert_shorthand)



df.head()


# Remove '%' and convert the column to float
df['60_day_eng_rate'] = df['60_day_eng_rate'].str.replace('%', '').astype(float)



df.head()



# Fill missing countries with 'Unknown' (or you can choose to drop them)
df['country'] = df['country'].fillna('Not Provided')



df.head()



# Likes to followers ratio - indicates influence per follower
df['likes_to_followers_ratio'] = df['avg_likes'] / df['followers']



# Engagement score - combine engagement rate with influence score
df['engagement_score'] = df['60_day_eng_rate'] * df['influence_score']


# Activity level - classify into Low, Medium, High based on number of posts
df['activity_level'] = pd.qcut(df['posts'], q=3, labels=['Low', 'Medium', 'High'])


# Categorize influencers by follower count
def follower_tier(f):
    if f >= 100_000_000:
        return 'Mega (100M+)'
    elif f >= 10_000_000:
        return 'Macro (10M - 100M)'
    elif f >= 1_000_000:
        return 'Mid (1M - 10M)'
    elif f >= 100_000:
        return 'Micro (100K - 1M)'
    else:
        return 'Nano (<100K)'

# Apply the tiering function
df['follower_tier'] = df['followers'].apply(follower_tier)


df.head()


# Classify engagement rate into levels
def engagement_level(rate):
    if rate >= 3.0:
        return 'High'
    elif rate >= 1.0:
        return 'Medium'
    else:
        return 'Low'

# Apply the engagement classification
df['engagement_level'] = df['60_day_eng_rate'].apply(engagement_level)



# Calculate posts per million followers
df['post_per_million_followers'] = (df['posts'] / df['followers']) * 1_000_000



# Calculate influence per post
df['influence_per_post'] = df['influence_score'] / df['posts']




# Rank influencers within their country by followers (1 = highest)
df['country_rank'] = df.groupby('country')['followers'].rank(method='dense', ascending=False)



df.head()




#Testing columns are working properly or not



# Check if any of the new columns contain NaN or inf
df[['follower_tier', 'engagement_level', 'post_per_million_followers', 
    'influence_per_post', 'country_rank']].isnull().sum()



# Check for infinite values (which may come from division)
df[['influence_per_post']].replace([np.inf, -np.inf], np.nan).isnull().sum()



# Check how many influencers fall in each follower tier
df['follower_tier'].value_counts()



# Check engagement level distribution
df['engagement_level'].value_counts()



import matplotlib.pyplot as plt
import seaborn as sns

# Engagement score vs influence score
sns.scatterplot(x='influence_score', y='engagement_score', data=df)
plt.title("Engagement Score vs Influence Score")
plt.show()

# Boxplot for influence per post across tiers
sns.boxplot(x='follower_tier', y='influence_per_post', data=df)
plt.xticks(rotation=45)
plt.title("Influence Per Post by Follower Tier")
plt.show()



# View top 10 rows with selected useful columns
df[['channel_info', 'followers', 'follower_tier', 'engagement_level',
    'posts', 'post_per_million_followers', 'influence_per_post', 'country', 'country_rank']].head(10)



# Save cleaned and feature-enhanced dataset
df.to_csv("final_cleaned_instagram_data.csv", index=False)



